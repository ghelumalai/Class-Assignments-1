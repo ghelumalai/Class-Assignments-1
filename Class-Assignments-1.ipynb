{
 "cells": [
  {
   "cell_type": "code",
   "execution_count": 1,
   "id": "90a043ea",
   "metadata": {},
   "outputs": [],
   "source": [
    "class SubfieldsofAI():\n",
    "    def SubfieldsInAI():\n",
    "        lists=[\"Machine Learning\",\"Neural Networks\",\"Vision\",\"Robotics\",\"Speech Processing\",\"Natural Language Processing\"]\n",
    "        print(\"Sub-fields in AI are: \")\n",
    "        for subfi in lists:\n",
    "            print(subfi)\n",
    "        return subfi"
   ]
  },
  {
   "cell_type": "code",
   "execution_count": 2,
   "id": "8a4ed4e4",
   "metadata": {},
   "outputs": [
    {
     "name": "stdout",
     "output_type": "stream",
     "text": [
      "Sub-fields in AI are: \n",
      "Machine Learning\n",
      "Neural Networks\n",
      "Vision\n",
      "Robotics\n",
      "Speech Processing\n",
      "Natural Language Processing\n"
     ]
    }
   ],
   "source": [
    "subAI=SubfieldsofAI.SubfieldsInAI()"
   ]
  },
  {
   "cell_type": "code",
   "execution_count": 3,
   "id": "c6e6cb03",
   "metadata": {},
   "outputs": [],
   "source": [
    "class oddEven():\n",
    "    def odd_Even():\n",
    "        num1=int(input(\"Enter a Number: \"))\n",
    "        if(num1%2==0):\n",
    "            print(num1,\"is Even Number\")\n",
    "        else:\n",
    "            print(num1,\"is Odd Number\")\n",
    "        return num1"
   ]
  },
  {
   "cell_type": "code",
   "execution_count": 4,
   "id": "091c9e5c",
   "metadata": {},
   "outputs": [
    {
     "name": "stdout",
     "output_type": "stream",
     "text": [
      "Enter a Number: 52452\n",
      "52452 is Even Number\n"
     ]
    }
   ],
   "source": [
    "OddEven=oddEven.odd_Even()"
   ]
  },
  {
   "cell_type": "code",
   "execution_count": 5,
   "id": "34afcf30",
   "metadata": {},
   "outputs": [],
   "source": [
    "class marriageEligible():\n",
    "    def marriageEligibility1():\n",
    "            gender=input(\"Your Gender: \").lower()\n",
    "            age=int(input(\"Your Age: \"))\n",
    "            if (gender in (\"male\",\"m\")):\n",
    "                if(age<21):\n",
    "                    print(\"Not Eligible\")\n",
    "                else:\n",
    "                    print(\"Eligible\")\n",
    "            if (gender in (\"female\",\"f\")):\n",
    "                if(age<18):\n",
    "                    print(\"Not Eligible\")\n",
    "                else:\n",
    "                    print(\"Eligible\")\n",
    "            return age "
   ]
  },
  {
   "cell_type": "code",
   "execution_count": 8,
   "id": "531c5267",
   "metadata": {},
   "outputs": [
    {
     "name": "stdout",
     "output_type": "stream",
     "text": [
      "Your Gender: Male\n",
      "Your Age: 20\n",
      "Not Eligible\n"
     ]
    }
   ],
   "source": [
    "marriage=marriageEligible.marriageEligibility1()"
   ]
  },
  {
   "cell_type": "code",
   "execution_count": 9,
   "id": "cd18384e",
   "metadata": {},
   "outputs": [],
   "source": [
    "class stuMark():\n",
    "    def mark_per():\n",
    "            sub1=int(input(\"Subject1= \"))\n",
    "            sub2=int(input(\"Subject2= \"))\n",
    "            sub3=int(input(\"Subject3= \"))\n",
    "            sub4=int(input(\"Subject4= \"))\n",
    "            sub5=int(input(\"Subject5= \"))\n",
    "            total=sub1+sub2+sub3+sub4+sub5\n",
    "            per=(total/500)*100\n",
    "            print(\"Total : \",total)\n",
    "            print(\"Percentage : \", per)\n",
    "            return total"
   ]
  },
  {
   "cell_type": "code",
   "execution_count": 10,
   "id": "17f33f49",
   "metadata": {},
   "outputs": [
    {
     "name": "stdout",
     "output_type": "stream",
     "text": [
      "Subject1= 98\n",
      "Subject2= 87\n",
      "Subject3= 95\n",
      "Subject4= 95\n",
      "Subject5= 93\n",
      "Total :  468\n",
      "Percentage :  93.60000000000001\n"
     ]
    }
   ],
   "source": [
    "mark=stuMark.mark_per()"
   ]
  },
  {
   "cell_type": "code",
   "execution_count": 11,
   "id": "6d9d7baa",
   "metadata": {},
   "outputs": [],
   "source": [
    "class triangle_AB():\n",
    "    def triangleAB():\n",
    "            h1=float(input(\"Height1: \"))\n",
    "            h2=float(input(\"Height2: \"))\n",
    "            br=float(input(\"Breadth: \"))\n",
    "            area=(h1*br)/2\n",
    "            print(\"Area of Triangle: \",area)\n",
    "            perimeter=h1+h2+br\n",
    "            print(\"Perimeter of Triangle: \",perimeter)\n",
    "            return area"
   ]
  },
  {
   "cell_type": "code",
   "execution_count": 12,
   "id": "9b0e5b9e",
   "metadata": {},
   "outputs": [
    {
     "name": "stdout",
     "output_type": "stream",
     "text": [
      "Height1: 32\n",
      "Height2: 25\n",
      "Breadth: 34\n",
      "Area of Triangle:  544.0\n",
      "Perimeter of Triangle:  91.0\n"
     ]
    }
   ],
   "source": [
    "triangle=triangle_AB.triangleAB()"
   ]
  },
  {
   "cell_type": "code",
   "execution_count": null,
   "id": "a4b72f1d",
   "metadata": {},
   "outputs": [],
   "source": []
  }
 ],
 "metadata": {
  "kernelspec": {
   "display_name": "Python 3 (ipykernel)",
   "language": "python",
   "name": "python3"
  },
  "language_info": {
   "codemirror_mode": {
    "name": "ipython",
    "version": 3
   },
   "file_extension": ".py",
   "mimetype": "text/x-python",
   "name": "python",
   "nbconvert_exporter": "python",
   "pygments_lexer": "ipython3",
   "version": "3.11.5"
  }
 },
 "nbformat": 4,
 "nbformat_minor": 5
}
